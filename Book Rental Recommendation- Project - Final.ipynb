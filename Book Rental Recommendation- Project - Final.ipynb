{
 "cells": [
  {
   "cell_type": "markdown",
   "id": "d698beb2",
   "metadata": {},
   "source": [
    "# Book Rental Recommendation- Project"
   ]
  },
  {
   "cell_type": "code",
   "execution_count": 1,
   "id": "2d342b59",
   "metadata": {},
   "outputs": [],
   "source": [
    "#importing the most used libraries\n",
    "import numpy as np\n",
    "import pandas as pd\n",
    "import warnings\n",
    "warnings.filterwarnings('ignore')"
   ]
  },
  {
   "cell_type": "markdown",
   "id": "c727ad77",
   "metadata": {},
   "source": [
    "### Read the books dataset and explore it"
   ]
  },
  {
   "cell_type": "code",
   "execution_count": 2,
   "id": "d3825c66",
   "metadata": {},
   "outputs": [],
   "source": [
    "#reading the data\n",
    "df_books= pd.read_csv('BX-Books.csv', encoding= \"latin1\")\n",
    "df_users = pd.read_csv('BX-Users.csv', encoding= 'latin1')\n",
    "df_ratings= pd.read_csv(\"BX-Book-Ratings.csv\", encoding= 'latin1')"
   ]
  },
  {
   "cell_type": "code",
   "execution_count": 3,
   "id": "8104e4fb",
   "metadata": {},
   "outputs": [],
   "source": [
    "# Exploring the data (The type and quantity)"
   ]
  },
  {
   "cell_type": "code",
   "execution_count": 4,
   "id": "4d470f67",
   "metadata": {
    "scrolled": true
   },
   "outputs": [
    {
     "data": {
      "text/html": [
       "<div>\n",
       "<style scoped>\n",
       "    .dataframe tbody tr th:only-of-type {\n",
       "        vertical-align: middle;\n",
       "    }\n",
       "\n",
       "    .dataframe tbody tr th {\n",
       "        vertical-align: top;\n",
       "    }\n",
       "\n",
       "    .dataframe thead th {\n",
       "        text-align: right;\n",
       "    }\n",
       "</style>\n",
       "<table border=\"1\" class=\"dataframe\">\n",
       "  <thead>\n",
       "    <tr style=\"text-align: right;\">\n",
       "      <th></th>\n",
       "      <th>isbn</th>\n",
       "      <th>book_title</th>\n",
       "      <th>book_author</th>\n",
       "      <th>year_of_publication</th>\n",
       "      <th>publisher</th>\n",
       "    </tr>\n",
       "  </thead>\n",
       "  <tbody>\n",
       "    <tr>\n",
       "      <th>0</th>\n",
       "      <td>195153448</td>\n",
       "      <td>Classical Mythology</td>\n",
       "      <td>Mark P. O. Morford</td>\n",
       "      <td>2002</td>\n",
       "      <td>Oxford University Press</td>\n",
       "    </tr>\n",
       "    <tr>\n",
       "      <th>1</th>\n",
       "      <td>2005018</td>\n",
       "      <td>Clara Callan</td>\n",
       "      <td>Richard Bruce Wright</td>\n",
       "      <td>2001</td>\n",
       "      <td>HarperFlamingo Canada</td>\n",
       "    </tr>\n",
       "    <tr>\n",
       "      <th>2</th>\n",
       "      <td>60973129</td>\n",
       "      <td>Decision in Normandy</td>\n",
       "      <td>Carlo D'Este</td>\n",
       "      <td>1991</td>\n",
       "      <td>HarperPerennial</td>\n",
       "    </tr>\n",
       "    <tr>\n",
       "      <th>3</th>\n",
       "      <td>374157065</td>\n",
       "      <td>Flu: The Story of the Great Influenza Pandemic...</td>\n",
       "      <td>Gina Bari Kolata</td>\n",
       "      <td>1999</td>\n",
       "      <td>Farrar Straus Giroux</td>\n",
       "    </tr>\n",
       "    <tr>\n",
       "      <th>4</th>\n",
       "      <td>393045218</td>\n",
       "      <td>The Mummies of Urumchi</td>\n",
       "      <td>E. J. W. Barber</td>\n",
       "      <td>1999</td>\n",
       "      <td>W. W. Norton &amp;amp; Company</td>\n",
       "    </tr>\n",
       "  </tbody>\n",
       "</table>\n",
       "</div>"
      ],
      "text/plain": [
       "        isbn                                         book_title  \\\n",
       "0  195153448                                Classical Mythology   \n",
       "1    2005018                                       Clara Callan   \n",
       "2   60973129                               Decision in Normandy   \n",
       "3  374157065  Flu: The Story of the Great Influenza Pandemic...   \n",
       "4  393045218                             The Mummies of Urumchi   \n",
       "\n",
       "            book_author year_of_publication                   publisher  \n",
       "0    Mark P. O. Morford                2002     Oxford University Press  \n",
       "1  Richard Bruce Wright                2001       HarperFlamingo Canada  \n",
       "2          Carlo D'Este                1991             HarperPerennial  \n",
       "3      Gina Bari Kolata                1999        Farrar Straus Giroux  \n",
       "4       E. J. W. Barber                1999  W. W. Norton &amp; Company  "
      ]
     },
     "execution_count": 4,
     "metadata": {},
     "output_type": "execute_result"
    }
   ],
   "source": [
    "df_books.head()"
   ]
  },
  {
   "cell_type": "code",
   "execution_count": 5,
   "id": "c3484734",
   "metadata": {
    "scrolled": true
   },
   "outputs": [
    {
     "data": {
      "text/html": [
       "<div>\n",
       "<style scoped>\n",
       "    .dataframe tbody tr th:only-of-type {\n",
       "        vertical-align: middle;\n",
       "    }\n",
       "\n",
       "    .dataframe tbody tr th {\n",
       "        vertical-align: top;\n",
       "    }\n",
       "\n",
       "    .dataframe thead th {\n",
       "        text-align: right;\n",
       "    }\n",
       "</style>\n",
       "<table border=\"1\" class=\"dataframe\">\n",
       "  <thead>\n",
       "    <tr style=\"text-align: right;\">\n",
       "      <th></th>\n",
       "      <th>user_id</th>\n",
       "      <th>isbn</th>\n",
       "      <th>rating</th>\n",
       "    </tr>\n",
       "  </thead>\n",
       "  <tbody>\n",
       "    <tr>\n",
       "      <th>0</th>\n",
       "      <td>276725</td>\n",
       "      <td>034545104X</td>\n",
       "      <td>0</td>\n",
       "    </tr>\n",
       "    <tr>\n",
       "      <th>1</th>\n",
       "      <td>276726</td>\n",
       "      <td>155061224</td>\n",
       "      <td>5</td>\n",
       "    </tr>\n",
       "    <tr>\n",
       "      <th>2</th>\n",
       "      <td>276727</td>\n",
       "      <td>446520802</td>\n",
       "      <td>0</td>\n",
       "    </tr>\n",
       "    <tr>\n",
       "      <th>3</th>\n",
       "      <td>276729</td>\n",
       "      <td>052165615X</td>\n",
       "      <td>3</td>\n",
       "    </tr>\n",
       "    <tr>\n",
       "      <th>4</th>\n",
       "      <td>276729</td>\n",
       "      <td>521795028</td>\n",
       "      <td>6</td>\n",
       "    </tr>\n",
       "  </tbody>\n",
       "</table>\n",
       "</div>"
      ],
      "text/plain": [
       "   user_id        isbn  rating\n",
       "0   276725  034545104X       0\n",
       "1   276726   155061224       5\n",
       "2   276727   446520802       0\n",
       "3   276729  052165615X       3\n",
       "4   276729   521795028       6"
      ]
     },
     "execution_count": 5,
     "metadata": {},
     "output_type": "execute_result"
    }
   ],
   "source": [
    "df_ratings.head( )"
   ]
  },
  {
   "cell_type": "code",
   "execution_count": 6,
   "id": "f2c26a27",
   "metadata": {},
   "outputs": [
    {
     "data": {
      "text/html": [
       "<div>\n",
       "<style scoped>\n",
       "    .dataframe tbody tr th:only-of-type {\n",
       "        vertical-align: middle;\n",
       "    }\n",
       "\n",
       "    .dataframe tbody tr th {\n",
       "        vertical-align: top;\n",
       "    }\n",
       "\n",
       "    .dataframe thead th {\n",
       "        text-align: right;\n",
       "    }\n",
       "</style>\n",
       "<table border=\"1\" class=\"dataframe\">\n",
       "  <thead>\n",
       "    <tr style=\"text-align: right;\">\n",
       "      <th></th>\n",
       "      <th>user_id</th>\n",
       "      <th>Location</th>\n",
       "      <th>Age</th>\n",
       "    </tr>\n",
       "  </thead>\n",
       "  <tbody>\n",
       "    <tr>\n",
       "      <th>0</th>\n",
       "      <td>1</td>\n",
       "      <td>nyc, new york, usa</td>\n",
       "      <td>NaN</td>\n",
       "    </tr>\n",
       "    <tr>\n",
       "      <th>1</th>\n",
       "      <td>2</td>\n",
       "      <td>stockton, california, usa</td>\n",
       "      <td>18.0</td>\n",
       "    </tr>\n",
       "    <tr>\n",
       "      <th>2</th>\n",
       "      <td>3</td>\n",
       "      <td>moscow, yukon territory, russia</td>\n",
       "      <td>NaN</td>\n",
       "    </tr>\n",
       "    <tr>\n",
       "      <th>3</th>\n",
       "      <td>4</td>\n",
       "      <td>porto, v.n.gaia, portugal</td>\n",
       "      <td>17.0</td>\n",
       "    </tr>\n",
       "    <tr>\n",
       "      <th>4</th>\n",
       "      <td>5</td>\n",
       "      <td>farnborough, hants, united kingdom</td>\n",
       "      <td>NaN</td>\n",
       "    </tr>\n",
       "  </tbody>\n",
       "</table>\n",
       "</div>"
      ],
      "text/plain": [
       "  user_id                            Location   Age\n",
       "0       1                  nyc, new york, usa   NaN\n",
       "1       2           stockton, california, usa  18.0\n",
       "2       3     moscow, yukon territory, russia   NaN\n",
       "3       4           porto, v.n.gaia, portugal  17.0\n",
       "4       5  farnborough, hants, united kingdom   NaN"
      ]
     },
     "execution_count": 6,
     "metadata": {},
     "output_type": "execute_result"
    }
   ],
   "source": [
    "df_users.head()"
   ]
  },
  {
   "cell_type": "markdown",
   "id": "68f28cd9",
   "metadata": {},
   "source": [
    "### Clean up NaN values"
   ]
  },
  {
   "cell_type": "code",
   "execution_count": 7,
   "id": "e9daa7ba",
   "metadata": {},
   "outputs": [
    {
     "data": {
      "text/plain": [
       "isbn                   0\n",
       "book_title             0\n",
       "book_author            1\n",
       "year_of_publication    0\n",
       "publisher              2\n",
       "dtype: int64"
      ]
     },
     "execution_count": 7,
     "metadata": {},
     "output_type": "execute_result"
    }
   ],
   "source": [
    "df_books.isnull().sum()"
   ]
  },
  {
   "cell_type": "code",
   "execution_count": 8,
   "id": "49e686bf",
   "metadata": {},
   "outputs": [
    {
     "data": {
      "text/plain": [
       "user_id    0\n",
       "isbn       0\n",
       "rating     0\n",
       "dtype: int64"
      ]
     },
     "execution_count": 8,
     "metadata": {},
     "output_type": "execute_result"
    }
   ],
   "source": [
    "df_ratings.isnull().sum()"
   ]
  },
  {
   "cell_type": "code",
   "execution_count": 9,
   "id": "6e8420da",
   "metadata": {},
   "outputs": [
    {
     "data": {
      "text/plain": [
       "user_id          0\n",
       "Location         1\n",
       "Age         110763\n",
       "dtype: int64"
      ]
     },
     "execution_count": 9,
     "metadata": {},
     "output_type": "execute_result"
    }
   ],
   "source": [
    "df_users.isnull().sum()"
   ]
  },
  {
   "cell_type": "code",
   "execution_count": 10,
   "id": "0ecdd921",
   "metadata": {},
   "outputs": [
    {
     "data": {
      "text/plain": [
       "user_id     278859\n",
       "Location    278858\n",
       "Age         168096\n",
       "dtype: int64"
      ]
     },
     "execution_count": 10,
     "metadata": {},
     "output_type": "execute_result"
    }
   ],
   "source": [
    "df_users.count()"
   ]
  },
  {
   "cell_type": "code",
   "execution_count": 11,
   "id": "97c60985",
   "metadata": {},
   "outputs": [],
   "source": [
    "# Since there is negligible null values and not in any of the columns we required Null value treatment not required"
   ]
  },
  {
   "cell_type": "markdown",
   "id": "d21c9b8d",
   "metadata": {},
   "source": [
    "### Take a quick look at the number of unique users and books"
   ]
  },
  {
   "cell_type": "code",
   "execution_count": 12,
   "id": "75a5a5d1",
   "metadata": {},
   "outputs": [],
   "source": [
    "# Checking if all values in isbn (df_books) and user_id (df_users) are unique"
   ]
  },
  {
   "cell_type": "code",
   "execution_count": 13,
   "id": "d61e7d99",
   "metadata": {},
   "outputs": [
    {
     "data": {
      "text/plain": [
       "True"
      ]
     },
     "execution_count": 13,
     "metadata": {},
     "output_type": "execute_result"
    }
   ],
   "source": [
    "df_books.isbn.count() == len(df_books.isbn.unique())"
   ]
  },
  {
   "cell_type": "code",
   "execution_count": 14,
   "id": "9d7b94f4",
   "metadata": {},
   "outputs": [
    {
     "data": {
      "text/plain": [
       "True"
      ]
     },
     "execution_count": 14,
     "metadata": {},
     "output_type": "execute_result"
    }
   ],
   "source": [
    "df_users.user_id.count() == len(df_users.user_id.unique())"
   ]
  },
  {
   "cell_type": "code",
   "execution_count": 15,
   "id": "987b25fe",
   "metadata": {},
   "outputs": [
    {
     "data": {
      "text/plain": [
       "(271379, 278859, 1048575)"
      ]
     },
     "execution_count": 15,
     "metadata": {},
     "output_type": "execute_result"
    }
   ],
   "source": [
    "df_books.isbn.count() , df_users.user_id.count(), df_ratings.rating.count()"
   ]
  },
  {
   "cell_type": "markdown",
   "id": "78002712",
   "metadata": {},
   "source": [
    "### Create a merged DataFrame with popular books and more frequent readers"
   ]
  },
  {
   "cell_type": "code",
   "execution_count": 16,
   "id": "5d876f2a",
   "metadata": {},
   "outputs": [],
   "source": [
    "# merging ratings data with books data\n",
    "df_merged = df_books.merge(right= df_ratings, on= 'isbn')"
   ]
  },
  {
   "cell_type": "code",
   "execution_count": 17,
   "id": "113ce7dc",
   "metadata": {},
   "outputs": [],
   "source": [
    "#merging merged data with users data\n",
    "df_merged = df_merged.merge(right= df_users, on= 'user_id')"
   ]
  },
  {
   "cell_type": "code",
   "execution_count": 18,
   "id": "b0f287a8",
   "metadata": {},
   "outputs": [
    {
     "data": {
      "text/html": [
       "<div>\n",
       "<style scoped>\n",
       "    .dataframe tbody tr th:only-of-type {\n",
       "        vertical-align: middle;\n",
       "    }\n",
       "\n",
       "    .dataframe tbody tr th {\n",
       "        vertical-align: top;\n",
       "    }\n",
       "\n",
       "    .dataframe thead th {\n",
       "        text-align: right;\n",
       "    }\n",
       "</style>\n",
       "<table border=\"1\" class=\"dataframe\">\n",
       "  <thead>\n",
       "    <tr style=\"text-align: right;\">\n",
       "      <th></th>\n",
       "      <th>isbn</th>\n",
       "      <th>book_title</th>\n",
       "      <th>book_author</th>\n",
       "      <th>year_of_publication</th>\n",
       "      <th>publisher</th>\n",
       "      <th>user_id</th>\n",
       "      <th>rating</th>\n",
       "      <th>Location</th>\n",
       "      <th>Age</th>\n",
       "    </tr>\n",
       "  </thead>\n",
       "  <tbody>\n",
       "    <tr>\n",
       "      <th>0</th>\n",
       "      <td>195153448</td>\n",
       "      <td>Classical Mythology</td>\n",
       "      <td>Mark P. O. Morford</td>\n",
       "      <td>2002</td>\n",
       "      <td>Oxford University Press</td>\n",
       "      <td>2</td>\n",
       "      <td>0</td>\n",
       "      <td>stockton, california, usa</td>\n",
       "      <td>18.0</td>\n",
       "    </tr>\n",
       "    <tr>\n",
       "      <th>1</th>\n",
       "      <td>2005018</td>\n",
       "      <td>Clara Callan</td>\n",
       "      <td>Richard Bruce Wright</td>\n",
       "      <td>2001</td>\n",
       "      <td>HarperFlamingo Canada</td>\n",
       "      <td>8</td>\n",
       "      <td>5</td>\n",
       "      <td>timmins, ontario, canada</td>\n",
       "      <td>NaN</td>\n",
       "    </tr>\n",
       "    <tr>\n",
       "      <th>2</th>\n",
       "      <td>60973129</td>\n",
       "      <td>Decision in Normandy</td>\n",
       "      <td>Carlo D'Este</td>\n",
       "      <td>1991</td>\n",
       "      <td>HarperPerennial</td>\n",
       "      <td>8</td>\n",
       "      <td>0</td>\n",
       "      <td>timmins, ontario, canada</td>\n",
       "      <td>NaN</td>\n",
       "    </tr>\n",
       "    <tr>\n",
       "      <th>3</th>\n",
       "      <td>374157065</td>\n",
       "      <td>Flu: The Story of the Great Influenza Pandemic...</td>\n",
       "      <td>Gina Bari Kolata</td>\n",
       "      <td>1999</td>\n",
       "      <td>Farrar Straus Giroux</td>\n",
       "      <td>8</td>\n",
       "      <td>0</td>\n",
       "      <td>timmins, ontario, canada</td>\n",
       "      <td>NaN</td>\n",
       "    </tr>\n",
       "    <tr>\n",
       "      <th>4</th>\n",
       "      <td>393045218</td>\n",
       "      <td>The Mummies of Urumchi</td>\n",
       "      <td>E. J. W. Barber</td>\n",
       "      <td>1999</td>\n",
       "      <td>W. W. Norton &amp;amp; Company</td>\n",
       "      <td>8</td>\n",
       "      <td>0</td>\n",
       "      <td>timmins, ontario, canada</td>\n",
       "      <td>NaN</td>\n",
       "    </tr>\n",
       "  </tbody>\n",
       "</table>\n",
       "</div>"
      ],
      "text/plain": [
       "        isbn                                         book_title  \\\n",
       "0  195153448                                Classical Mythology   \n",
       "1    2005018                                       Clara Callan   \n",
       "2   60973129                               Decision in Normandy   \n",
       "3  374157065  Flu: The Story of the Great Influenza Pandemic...   \n",
       "4  393045218                             The Mummies of Urumchi   \n",
       "\n",
       "            book_author year_of_publication                   publisher  \\\n",
       "0    Mark P. O. Morford                2002     Oxford University Press   \n",
       "1  Richard Bruce Wright                2001       HarperFlamingo Canada   \n",
       "2          Carlo D'Este                1991             HarperPerennial   \n",
       "3      Gina Bari Kolata                1999        Farrar Straus Giroux   \n",
       "4       E. J. W. Barber                1999  W. W. Norton &amp; Company   \n",
       "\n",
       "  user_id  rating                   Location   Age  \n",
       "0       2       0  stockton, california, usa  18.0  \n",
       "1       8       5   timmins, ontario, canada   NaN  \n",
       "2       8       0   timmins, ontario, canada   NaN  \n",
       "3       8       0   timmins, ontario, canada   NaN  \n",
       "4       8       0   timmins, ontario, canada   NaN  "
      ]
     },
     "execution_count": 18,
     "metadata": {},
     "output_type": "execute_result"
    }
   ],
   "source": [
    "df_merged.head()"
   ]
  },
  {
   "cell_type": "code",
   "execution_count": 19,
   "id": "ec041b89",
   "metadata": {},
   "outputs": [],
   "source": [
    "df_merged.drop(columns=['Age', 'Location', 'publisher', 'book_title', 'book_author', 'year_of_publication'], inplace= True)"
   ]
  },
  {
   "cell_type": "code",
   "execution_count": 20,
   "id": "bf8056fd",
   "metadata": {},
   "outputs": [],
   "source": [
    "df_merged.sort_values(by= 'isbn', inplace= True)"
   ]
  },
  {
   "cell_type": "code",
   "execution_count": 21,
   "id": "636dfe1f",
   "metadata": {},
   "outputs": [
    {
     "data": {
      "text/html": [
       "<div>\n",
       "<style scoped>\n",
       "    .dataframe tbody tr th:only-of-type {\n",
       "        vertical-align: middle;\n",
       "    }\n",
       "\n",
       "    .dataframe tbody tr th {\n",
       "        vertical-align: top;\n",
       "    }\n",
       "\n",
       "    .dataframe thead th {\n",
       "        text-align: right;\n",
       "    }\n",
       "</style>\n",
       "<table border=\"1\" class=\"dataframe\">\n",
       "  <thead>\n",
       "    <tr style=\"text-align: right;\">\n",
       "      <th></th>\n",
       "      <th>isbn</th>\n",
       "      <th>user_id</th>\n",
       "      <th>rating</th>\n",
       "    </tr>\n",
       "  </thead>\n",
       "  <tbody>\n",
       "    <tr>\n",
       "      <th>191355</th>\n",
       "      <td>000104687X</td>\n",
       "      <td>23902</td>\n",
       "      <td>6</td>\n",
       "    </tr>\n",
       "    <tr>\n",
       "      <th>29185</th>\n",
       "      <td>000104799X</td>\n",
       "      <td>166596</td>\n",
       "      <td>8</td>\n",
       "    </tr>\n",
       "    <tr>\n",
       "      <th>194792</th>\n",
       "      <td>000104799X</td>\n",
       "      <td>28204</td>\n",
       "      <td>7</td>\n",
       "    </tr>\n",
       "    <tr>\n",
       "      <th>110709</th>\n",
       "      <td>000123207X</td>\n",
       "      <td>198711</td>\n",
       "      <td>0</td>\n",
       "    </tr>\n",
       "    <tr>\n",
       "      <th>751354</th>\n",
       "      <td>000160418X</td>\n",
       "      <td>10067</td>\n",
       "      <td>7</td>\n",
       "    </tr>\n",
       "    <tr>\n",
       "      <th>...</th>\n",
       "      <td>...</td>\n",
       "      <td>...</td>\n",
       "      <td>...</td>\n",
       "    </tr>\n",
       "    <tr>\n",
       "      <th>397847</th>\n",
       "      <td>B000234N3A</td>\n",
       "      <td>100906</td>\n",
       "      <td>9</td>\n",
       "    </tr>\n",
       "    <tr>\n",
       "      <th>397844</th>\n",
       "      <td>B000234NC6</td>\n",
       "      <td>100906</td>\n",
       "      <td>0</td>\n",
       "    </tr>\n",
       "    <tr>\n",
       "      <th>573472</th>\n",
       "      <td>B00029DGGO</td>\n",
       "      <td>100088</td>\n",
       "      <td>0</td>\n",
       "    </tr>\n",
       "    <tr>\n",
       "      <th>292874</th>\n",
       "      <td>B0002JV9PY</td>\n",
       "      <td>179791</td>\n",
       "      <td>0</td>\n",
       "    </tr>\n",
       "    <tr>\n",
       "      <th>292873</th>\n",
       "      <td>B0002K6K8O</td>\n",
       "      <td>179791</td>\n",
       "      <td>0</td>\n",
       "    </tr>\n",
       "  </tbody>\n",
       "</table>\n",
       "<p>932713 rows × 3 columns</p>\n",
       "</div>"
      ],
      "text/plain": [
       "              isbn user_id  rating\n",
       "191355  000104687X   23902       6\n",
       "29185   000104799X  166596       8\n",
       "194792  000104799X   28204       7\n",
       "110709  000123207X  198711       0\n",
       "751354  000160418X   10067       7\n",
       "...            ...     ...     ...\n",
       "397847  B000234N3A  100906       9\n",
       "397844  B000234NC6  100906       0\n",
       "573472  B00029DGGO  100088       0\n",
       "292874  B0002JV9PY  179791       0\n",
       "292873  B0002K6K8O  179791       0\n",
       "\n",
       "[932713 rows x 3 columns]"
      ]
     },
     "execution_count": 21,
     "metadata": {},
     "output_type": "execute_result"
    }
   ],
   "source": [
    "df_merged"
   ]
  },
  {
   "cell_type": "code",
   "execution_count": 22,
   "id": "3f2822ad",
   "metadata": {},
   "outputs": [],
   "source": [
    "#Create a dataframe with only popular books\n",
    "df_popular= df_merged.groupby('isbn').count().sort_values(by= 'rating', ascending= False)"
   ]
  },
  {
   "cell_type": "code",
   "execution_count": 23,
   "id": "d0502958",
   "metadata": {},
   "outputs": [],
   "source": [
    "df_popular.reset_index(inplace= True)"
   ]
  },
  {
   "cell_type": "code",
   "execution_count": 24,
   "id": "2d5de60d",
   "metadata": {},
   "outputs": [
    {
     "data": {
      "text/html": [
       "<div>\n",
       "<style scoped>\n",
       "    .dataframe tbody tr th:only-of-type {\n",
       "        vertical-align: middle;\n",
       "    }\n",
       "\n",
       "    .dataframe tbody tr th {\n",
       "        vertical-align: top;\n",
       "    }\n",
       "\n",
       "    .dataframe thead th {\n",
       "        text-align: right;\n",
       "    }\n",
       "</style>\n",
       "<table border=\"1\" class=\"dataframe\">\n",
       "  <thead>\n",
       "    <tr style=\"text-align: right;\">\n",
       "      <th></th>\n",
       "      <th>isbn</th>\n",
       "      <th>user_id</th>\n",
       "      <th>rating</th>\n",
       "    </tr>\n",
       "  </thead>\n",
       "  <tbody>\n",
       "    <tr>\n",
       "      <th>0</th>\n",
       "      <td>971880107</td>\n",
       "      <td>2250</td>\n",
       "      <td>2250</td>\n",
       "    </tr>\n",
       "    <tr>\n",
       "      <th>1</th>\n",
       "      <td>316666343</td>\n",
       "      <td>1156</td>\n",
       "      <td>1156</td>\n",
       "    </tr>\n",
       "    <tr>\n",
       "      <th>2</th>\n",
       "      <td>385504209</td>\n",
       "      <td>809</td>\n",
       "      <td>809</td>\n",
       "    </tr>\n",
       "    <tr>\n",
       "      <th>3</th>\n",
       "      <td>312195516</td>\n",
       "      <td>663</td>\n",
       "      <td>663</td>\n",
       "    </tr>\n",
       "    <tr>\n",
       "      <th>4</th>\n",
       "      <td>60928336</td>\n",
       "      <td>659</td>\n",
       "      <td>659</td>\n",
       "    </tr>\n",
       "    <tr>\n",
       "      <th>...</th>\n",
       "      <td>...</td>\n",
       "      <td>...</td>\n",
       "      <td>...</td>\n",
       "    </tr>\n",
       "    <tr>\n",
       "      <th>256163</th>\n",
       "      <td>380729423</td>\n",
       "      <td>1</td>\n",
       "      <td>1</td>\n",
       "    </tr>\n",
       "    <tr>\n",
       "      <th>256164</th>\n",
       "      <td>380729474</td>\n",
       "      <td>1</td>\n",
       "      <td>1</td>\n",
       "    </tr>\n",
       "    <tr>\n",
       "      <th>256165</th>\n",
       "      <td>380729687</td>\n",
       "      <td>1</td>\n",
       "      <td>1</td>\n",
       "    </tr>\n",
       "    <tr>\n",
       "      <th>256166</th>\n",
       "      <td>380729822</td>\n",
       "      <td>1</td>\n",
       "      <td>1</td>\n",
       "    </tr>\n",
       "    <tr>\n",
       "      <th>256167</th>\n",
       "      <td>B0002K6K8O</td>\n",
       "      <td>1</td>\n",
       "      <td>1</td>\n",
       "    </tr>\n",
       "  </tbody>\n",
       "</table>\n",
       "<p>256168 rows × 3 columns</p>\n",
       "</div>"
      ],
      "text/plain": [
       "              isbn  user_id  rating\n",
       "0        971880107     2250    2250\n",
       "1        316666343     1156    1156\n",
       "2        385504209      809     809\n",
       "3        312195516      663     663\n",
       "4         60928336      659     659\n",
       "...            ...      ...     ...\n",
       "256163   380729423        1       1\n",
       "256164   380729474        1       1\n",
       "256165   380729687        1       1\n",
       "256166   380729822        1       1\n",
       "256167  B0002K6K8O        1       1\n",
       "\n",
       "[256168 rows x 3 columns]"
      ]
     },
     "execution_count": 24,
     "metadata": {},
     "output_type": "execute_result"
    }
   ],
   "source": [
    "df_popular"
   ]
  },
  {
   "cell_type": "code",
   "execution_count": 25,
   "id": "9e2c8343",
   "metadata": {},
   "outputs": [
    {
     "data": {
      "text/html": [
       "<div>\n",
       "<style scoped>\n",
       "    .dataframe tbody tr th:only-of-type {\n",
       "        vertical-align: middle;\n",
       "    }\n",
       "\n",
       "    .dataframe tbody tr th {\n",
       "        vertical-align: top;\n",
       "    }\n",
       "\n",
       "    .dataframe thead th {\n",
       "        text-align: right;\n",
       "    }\n",
       "</style>\n",
       "<table border=\"1\" class=\"dataframe\">\n",
       "  <thead>\n",
       "    <tr style=\"text-align: right;\">\n",
       "      <th></th>\n",
       "      <th>isbn</th>\n",
       "      <th>rating</th>\n",
       "    </tr>\n",
       "    <tr>\n",
       "      <th>user_id</th>\n",
       "      <th></th>\n",
       "      <th></th>\n",
       "    </tr>\n",
       "  </thead>\n",
       "  <tbody>\n",
       "    <tr>\n",
       "      <th>11676</th>\n",
       "      <td>11147</td>\n",
       "      <td>11147</td>\n",
       "    </tr>\n",
       "    <tr>\n",
       "      <th>198711</th>\n",
       "      <td>6456</td>\n",
       "      <td>6456</td>\n",
       "    </tr>\n",
       "    <tr>\n",
       "      <th>153662</th>\n",
       "      <td>5817</td>\n",
       "      <td>5817</td>\n",
       "    </tr>\n",
       "    <tr>\n",
       "      <th>98391</th>\n",
       "      <td>5779</td>\n",
       "      <td>5779</td>\n",
       "    </tr>\n",
       "    <tr>\n",
       "      <th>35859</th>\n",
       "      <td>5646</td>\n",
       "      <td>5646</td>\n",
       "    </tr>\n",
       "    <tr>\n",
       "      <th>...</th>\n",
       "      <td>...</td>\n",
       "      <td>...</td>\n",
       "    </tr>\n",
       "    <tr>\n",
       "      <th>107093</th>\n",
       "      <td>1</td>\n",
       "      <td>1</td>\n",
       "    </tr>\n",
       "    <tr>\n",
       "      <th>107100</th>\n",
       "      <td>1</td>\n",
       "      <td>1</td>\n",
       "    </tr>\n",
       "    <tr>\n",
       "      <th>107111</th>\n",
       "      <td>1</td>\n",
       "      <td>1</td>\n",
       "    </tr>\n",
       "    <tr>\n",
       "      <th>107117</th>\n",
       "      <td>1</td>\n",
       "      <td>1</td>\n",
       "    </tr>\n",
       "    <tr>\n",
       "      <th>125349</th>\n",
       "      <td>1</td>\n",
       "      <td>1</td>\n",
       "    </tr>\n",
       "  </tbody>\n",
       "</table>\n",
       "<p>82900 rows × 2 columns</p>\n",
       "</div>"
      ],
      "text/plain": [
       "          isbn  rating\n",
       "user_id               \n",
       "11676    11147   11147\n",
       "198711    6456    6456\n",
       "153662    5817    5817\n",
       "98391     5779    5779\n",
       "35859     5646    5646\n",
       "...        ...     ...\n",
       "107093       1       1\n",
       "107100       1       1\n",
       "107111       1       1\n",
       "107117       1       1\n",
       "125349       1       1\n",
       "\n",
       "[82900 rows x 2 columns]"
      ]
     },
     "execution_count": 25,
     "metadata": {},
     "output_type": "execute_result"
    }
   ],
   "source": [
    "df_merged.groupby('user_id').count().sort_values(by= 'rating', ascending= False)"
   ]
  },
  {
   "cell_type": "code",
   "execution_count": 26,
   "id": "66f81d7e",
   "metadata": {},
   "outputs": [],
   "source": [
    "df_popular = df_popular.loc[df_popular.rating >= 100, :]"
   ]
  },
  {
   "cell_type": "code",
   "execution_count": 27,
   "id": "b6f0858f",
   "metadata": {},
   "outputs": [
    {
     "data": {
      "text/html": [
       "<div>\n",
       "<style scoped>\n",
       "    .dataframe tbody tr th:only-of-type {\n",
       "        vertical-align: middle;\n",
       "    }\n",
       "\n",
       "    .dataframe tbody tr th {\n",
       "        vertical-align: top;\n",
       "    }\n",
       "\n",
       "    .dataframe thead th {\n",
       "        text-align: right;\n",
       "    }\n",
       "</style>\n",
       "<table border=\"1\" class=\"dataframe\">\n",
       "  <thead>\n",
       "    <tr style=\"text-align: right;\">\n",
       "      <th></th>\n",
       "      <th>isbn</th>\n",
       "      <th>user_id</th>\n",
       "      <th>rating</th>\n",
       "    </tr>\n",
       "  </thead>\n",
       "  <tbody>\n",
       "    <tr>\n",
       "      <th>0</th>\n",
       "      <td>971880107</td>\n",
       "      <td>2250</td>\n",
       "      <td>2250</td>\n",
       "    </tr>\n",
       "    <tr>\n",
       "      <th>1</th>\n",
       "      <td>316666343</td>\n",
       "      <td>1156</td>\n",
       "      <td>1156</td>\n",
       "    </tr>\n",
       "    <tr>\n",
       "      <th>2</th>\n",
       "      <td>385504209</td>\n",
       "      <td>809</td>\n",
       "      <td>809</td>\n",
       "    </tr>\n",
       "    <tr>\n",
       "      <th>3</th>\n",
       "      <td>312195516</td>\n",
       "      <td>663</td>\n",
       "      <td>663</td>\n",
       "    </tr>\n",
       "    <tr>\n",
       "      <th>4</th>\n",
       "      <td>60928336</td>\n",
       "      <td>659</td>\n",
       "      <td>659</td>\n",
       "    </tr>\n",
       "    <tr>\n",
       "      <th>...</th>\n",
       "      <td>...</td>\n",
       "      <td>...</td>\n",
       "      <td>...</td>\n",
       "    </tr>\n",
       "    <tr>\n",
       "      <th>611</th>\n",
       "      <td>515124214</td>\n",
       "      <td>100</td>\n",
       "      <td>100</td>\n",
       "    </tr>\n",
       "    <tr>\n",
       "      <th>612</th>\n",
       "      <td>553580930</td>\n",
       "      <td>100</td>\n",
       "      <td>100</td>\n",
       "    </tr>\n",
       "    <tr>\n",
       "      <th>613</th>\n",
       "      <td>316781142</td>\n",
       "      <td>100</td>\n",
       "      <td>100</td>\n",
       "    </tr>\n",
       "    <tr>\n",
       "      <th>614</th>\n",
       "      <td>451204530</td>\n",
       "      <td>100</td>\n",
       "      <td>100</td>\n",
       "    </tr>\n",
       "    <tr>\n",
       "      <th>615</th>\n",
       "      <td>684867621</td>\n",
       "      <td>100</td>\n",
       "      <td>100</td>\n",
       "    </tr>\n",
       "  </tbody>\n",
       "</table>\n",
       "<p>616 rows × 3 columns</p>\n",
       "</div>"
      ],
      "text/plain": [
       "          isbn  user_id  rating\n",
       "0    971880107     2250    2250\n",
       "1    316666343     1156    1156\n",
       "2    385504209      809     809\n",
       "3    312195516      663     663\n",
       "4     60928336      659     659\n",
       "..         ...      ...     ...\n",
       "611  515124214      100     100\n",
       "612  553580930      100     100\n",
       "613  316781142      100     100\n",
       "614  451204530      100     100\n",
       "615  684867621      100     100\n",
       "\n",
       "[616 rows x 3 columns]"
      ]
     },
     "execution_count": 27,
     "metadata": {},
     "output_type": "execute_result"
    }
   ],
   "source": [
    "df_popular"
   ]
  },
  {
   "cell_type": "code",
   "execution_count": 28,
   "id": "fdf7c353",
   "metadata": {},
   "outputs": [],
   "source": [
    "df_merged= df_merged.loc[df_merged.isbn.isin(df_popular.isbn), :]"
   ]
  },
  {
   "cell_type": "code",
   "execution_count": 29,
   "id": "d014f3a1",
   "metadata": {},
   "outputs": [
    {
     "data": {
      "text/html": [
       "<div>\n",
       "<style scoped>\n",
       "    .dataframe tbody tr th:only-of-type {\n",
       "        vertical-align: middle;\n",
       "    }\n",
       "\n",
       "    .dataframe tbody tr th {\n",
       "        vertical-align: top;\n",
       "    }\n",
       "\n",
       "    .dataframe thead th {\n",
       "        text-align: right;\n",
       "    }\n",
       "</style>\n",
       "<table border=\"1\" class=\"dataframe\">\n",
       "  <thead>\n",
       "    <tr style=\"text-align: right;\">\n",
       "      <th></th>\n",
       "      <th>isbn</th>\n",
       "      <th>user_id</th>\n",
       "      <th>rating</th>\n",
       "    </tr>\n",
       "  </thead>\n",
       "  <tbody>\n",
       "    <tr>\n",
       "      <th>828530</th>\n",
       "      <td>002542730X</td>\n",
       "      <td>50216</td>\n",
       "      <td>10</td>\n",
       "    </tr>\n",
       "    <tr>\n",
       "      <th>685042</th>\n",
       "      <td>002542730X</td>\n",
       "      <td>93166</td>\n",
       "      <td>0</td>\n",
       "    </tr>\n",
       "    <tr>\n",
       "      <th>651501</th>\n",
       "      <td>002542730X</td>\n",
       "      <td>218404</td>\n",
       "      <td>8</td>\n",
       "    </tr>\n",
       "    <tr>\n",
       "      <th>194398</th>\n",
       "      <td>002542730X</td>\n",
       "      <td>28204</td>\n",
       "      <td>0</td>\n",
       "    </tr>\n",
       "    <tr>\n",
       "      <th>591844</th>\n",
       "      <td>002542730X</td>\n",
       "      <td>26535</td>\n",
       "      <td>0</td>\n",
       "    </tr>\n",
       "    <tr>\n",
       "      <th>...</th>\n",
       "      <td>...</td>\n",
       "      <td>...</td>\n",
       "      <td>...</td>\n",
       "    </tr>\n",
       "    <tr>\n",
       "      <th>561052</th>\n",
       "      <td>99771519</td>\n",
       "      <td>80371</td>\n",
       "      <td>0</td>\n",
       "    </tr>\n",
       "    <tr>\n",
       "      <th>755536</th>\n",
       "      <td>99771519</td>\n",
       "      <td>192854</td>\n",
       "      <td>0</td>\n",
       "    </tr>\n",
       "    <tr>\n",
       "      <th>257445</th>\n",
       "      <td>99771519</td>\n",
       "      <td>118434</td>\n",
       "      <td>9</td>\n",
       "    </tr>\n",
       "    <tr>\n",
       "      <th>393325</th>\n",
       "      <td>99771519</td>\n",
       "      <td>76626</td>\n",
       "      <td>0</td>\n",
       "    </tr>\n",
       "    <tr>\n",
       "      <th>547153</th>\n",
       "      <td>99771519</td>\n",
       "      <td>161936</td>\n",
       "      <td>9</td>\n",
       "    </tr>\n",
       "  </tbody>\n",
       "</table>\n",
       "<p>113811 rows × 3 columns</p>\n",
       "</div>"
      ],
      "text/plain": [
       "              isbn user_id  rating\n",
       "828530  002542730X   50216      10\n",
       "685042  002542730X   93166       0\n",
       "651501  002542730X  218404       8\n",
       "194398  002542730X   28204       0\n",
       "591844  002542730X   26535       0\n",
       "...            ...     ...     ...\n",
       "561052    99771519   80371       0\n",
       "755536    99771519  192854       0\n",
       "257445    99771519  118434       9\n",
       "393325    99771519   76626       0\n",
       "547153    99771519  161936       9\n",
       "\n",
       "[113811 rows x 3 columns]"
      ]
     },
     "execution_count": 29,
     "metadata": {},
     "output_type": "execute_result"
    }
   ],
   "source": [
    "df_merged"
   ]
  },
  {
   "cell_type": "code",
   "execution_count": 30,
   "id": "0412d73a",
   "metadata": {},
   "outputs": [],
   "source": [
    "#creating a dataframe with most frequent readers (those who have rated more than 10 books)\n",
    "freq_users= df_merged.groupby('user_id').count()[['rating']].loc[df_merged.groupby('user_id').count()\n",
    "                                                     [['rating']]['rating'] >= 10, :]"
   ]
  },
  {
   "cell_type": "code",
   "execution_count": 31,
   "id": "85f910b3",
   "metadata": {},
   "outputs": [],
   "source": [
    "freq_users.reset_index(inplace= True)"
   ]
  },
  {
   "cell_type": "code",
   "execution_count": 32,
   "id": "52cedf00",
   "metadata": {},
   "outputs": [],
   "source": [
    "df_merged = df_merged.loc[df_merged.user_id.isin(freq_users.user_id), :]"
   ]
  },
  {
   "cell_type": "code",
   "execution_count": 33,
   "id": "ac6c4c04",
   "metadata": {},
   "outputs": [
    {
     "data": {
      "text/html": [
       "<div>\n",
       "<style scoped>\n",
       "    .dataframe tbody tr th:only-of-type {\n",
       "        vertical-align: middle;\n",
       "    }\n",
       "\n",
       "    .dataframe tbody tr th {\n",
       "        vertical-align: top;\n",
       "    }\n",
       "\n",
       "    .dataframe thead th {\n",
       "        text-align: right;\n",
       "    }\n",
       "</style>\n",
       "<table border=\"1\" class=\"dataframe\">\n",
       "  <thead>\n",
       "    <tr style=\"text-align: right;\">\n",
       "      <th></th>\n",
       "      <th>isbn</th>\n",
       "      <th>user_id</th>\n",
       "      <th>rating</th>\n",
       "    </tr>\n",
       "  </thead>\n",
       "  <tbody>\n",
       "    <tr>\n",
       "      <th>194398</th>\n",
       "      <td>002542730X</td>\n",
       "      <td>28204</td>\n",
       "      <td>0</td>\n",
       "    </tr>\n",
       "    <tr>\n",
       "      <th>591844</th>\n",
       "      <td>002542730X</td>\n",
       "      <td>26535</td>\n",
       "      <td>0</td>\n",
       "    </tr>\n",
       "    <tr>\n",
       "      <th>328642</th>\n",
       "      <td>002542730X</td>\n",
       "      <td>225763</td>\n",
       "      <td>7</td>\n",
       "    </tr>\n",
       "    <tr>\n",
       "      <th>68366</th>\n",
       "      <td>002542730X</td>\n",
       "      <td>81088</td>\n",
       "      <td>0</td>\n",
       "    </tr>\n",
       "    <tr>\n",
       "      <th>240455</th>\n",
       "      <td>002542730X</td>\n",
       "      <td>88733</td>\n",
       "      <td>0</td>\n",
       "    </tr>\n",
       "    <tr>\n",
       "      <th>...</th>\n",
       "      <td>...</td>\n",
       "      <td>...</td>\n",
       "      <td>...</td>\n",
       "    </tr>\n",
       "    <tr>\n",
       "      <th>567209</th>\n",
       "      <td>99771519</td>\n",
       "      <td>26883</td>\n",
       "      <td>0</td>\n",
       "    </tr>\n",
       "    <tr>\n",
       "      <th>479794</th>\n",
       "      <td>99771519</td>\n",
       "      <td>149908</td>\n",
       "      <td>0</td>\n",
       "    </tr>\n",
       "    <tr>\n",
       "      <th>257445</th>\n",
       "      <td>99771519</td>\n",
       "      <td>118434</td>\n",
       "      <td>9</td>\n",
       "    </tr>\n",
       "    <tr>\n",
       "      <th>393325</th>\n",
       "      <td>99771519</td>\n",
       "      <td>76626</td>\n",
       "      <td>0</td>\n",
       "    </tr>\n",
       "    <tr>\n",
       "      <th>547153</th>\n",
       "      <td>99771519</td>\n",
       "      <td>161936</td>\n",
       "      <td>9</td>\n",
       "    </tr>\n",
       "  </tbody>\n",
       "</table>\n",
       "<p>64944 rows × 3 columns</p>\n",
       "</div>"
      ],
      "text/plain": [
       "              isbn user_id  rating\n",
       "194398  002542730X   28204       0\n",
       "591844  002542730X   26535       0\n",
       "328642  002542730X  225763       7\n",
       "68366   002542730X   81088       0\n",
       "240455  002542730X   88733       0\n",
       "...            ...     ...     ...\n",
       "567209    99771519   26883       0\n",
       "479794    99771519  149908       0\n",
       "257445    99771519  118434       9\n",
       "393325    99771519   76626       0\n",
       "547153    99771519  161936       9\n",
       "\n",
       "[64944 rows x 3 columns]"
      ]
     },
     "execution_count": 33,
     "metadata": {},
     "output_type": "execute_result"
    }
   ],
   "source": [
    "# final merged dataframe with popular books and frequent users\n",
    "df_merged"
   ]
  },
  {
   "cell_type": "markdown",
   "id": "62ca1e05",
   "metadata": {},
   "source": [
    "### Convert ISBN variables to numeric numbers in the correct order"
   ]
  },
  {
   "cell_type": "code",
   "execution_count": 34,
   "id": "b36f1910",
   "metadata": {},
   "outputs": [],
   "source": [
    "df_merged.sort_values(by= 'isbn', inplace= True)"
   ]
  },
  {
   "cell_type": "code",
   "execution_count": 35,
   "id": "41d28959",
   "metadata": {},
   "outputs": [],
   "source": [
    "isbn = pd.DataFrame(df_merged.isbn.unique())"
   ]
  },
  {
   "cell_type": "code",
   "execution_count": 36,
   "id": "31de3737",
   "metadata": {},
   "outputs": [],
   "source": [
    "isbn['isbn_new'] = pd.Series(range(1, len(df_merged.isbn.unique())+1))"
   ]
  },
  {
   "cell_type": "code",
   "execution_count": 37,
   "id": "3f1f8ff2",
   "metadata": {},
   "outputs": [],
   "source": [
    "isbn.rename(columns= {0 : 'isbn'}, inplace= True)"
   ]
  },
  {
   "cell_type": "code",
   "execution_count": 38,
   "id": "2d115036",
   "metadata": {},
   "outputs": [],
   "source": [
    "#isbn_new = isbn"
   ]
  },
  {
   "cell_type": "code",
   "execution_count": 39,
   "id": "615a451d",
   "metadata": {},
   "outputs": [],
   "source": [
    "#df_merged['isbn_new'] = (range(1, df_merged.isbn.count()+1))"
   ]
  },
  {
   "cell_type": "code",
   "execution_count": 40,
   "id": "c97adcc6",
   "metadata": {},
   "outputs": [],
   "source": [
    "df_merged = df_merged.merge(right= isbn, on= 'isbn')"
   ]
  },
  {
   "cell_type": "code",
   "execution_count": 41,
   "id": "ef325bd2",
   "metadata": {},
   "outputs": [],
   "source": [
    "#df_merged.isbn_new = list(range(1, df_merged.isbn.count()+1))"
   ]
  },
  {
   "cell_type": "code",
   "execution_count": 42,
   "id": "8b2a951a",
   "metadata": {},
   "outputs": [
    {
     "data": {
      "text/html": [
       "<div>\n",
       "<style scoped>\n",
       "    .dataframe tbody tr th:only-of-type {\n",
       "        vertical-align: middle;\n",
       "    }\n",
       "\n",
       "    .dataframe tbody tr th {\n",
       "        vertical-align: top;\n",
       "    }\n",
       "\n",
       "    .dataframe thead th {\n",
       "        text-align: right;\n",
       "    }\n",
       "</style>\n",
       "<table border=\"1\" class=\"dataframe\">\n",
       "  <thead>\n",
       "    <tr style=\"text-align: right;\">\n",
       "      <th></th>\n",
       "      <th>isbn</th>\n",
       "      <th>user_id</th>\n",
       "      <th>rating</th>\n",
       "      <th>isbn_new</th>\n",
       "    </tr>\n",
       "  </thead>\n",
       "  <tbody>\n",
       "    <tr>\n",
       "      <th>0</th>\n",
       "      <td>002542730X</td>\n",
       "      <td>28204</td>\n",
       "      <td>0</td>\n",
       "      <td>1</td>\n",
       "    </tr>\n",
       "    <tr>\n",
       "      <th>1</th>\n",
       "      <td>002542730X</td>\n",
       "      <td>184299</td>\n",
       "      <td>0</td>\n",
       "      <td>1</td>\n",
       "    </tr>\n",
       "    <tr>\n",
       "      <th>2</th>\n",
       "      <td>002542730X</td>\n",
       "      <td>165582</td>\n",
       "      <td>5</td>\n",
       "      <td>1</td>\n",
       "    </tr>\n",
       "    <tr>\n",
       "      <th>3</th>\n",
       "      <td>002542730X</td>\n",
       "      <td>130474</td>\n",
       "      <td>0</td>\n",
       "      <td>1</td>\n",
       "    </tr>\n",
       "    <tr>\n",
       "      <th>4</th>\n",
       "      <td>002542730X</td>\n",
       "      <td>77809</td>\n",
       "      <td>0</td>\n",
       "      <td>1</td>\n",
       "    </tr>\n",
       "    <tr>\n",
       "      <th>...</th>\n",
       "      <td>...</td>\n",
       "      <td>...</td>\n",
       "      <td>...</td>\n",
       "      <td>...</td>\n",
       "    </tr>\n",
       "    <tr>\n",
       "      <th>64939</th>\n",
       "      <td>99771519</td>\n",
       "      <td>170184</td>\n",
       "      <td>0</td>\n",
       "      <td>616</td>\n",
       "    </tr>\n",
       "    <tr>\n",
       "      <th>64940</th>\n",
       "      <td>99771519</td>\n",
       "      <td>110029</td>\n",
       "      <td>0</td>\n",
       "      <td>616</td>\n",
       "    </tr>\n",
       "    <tr>\n",
       "      <th>64941</th>\n",
       "      <td>99771519</td>\n",
       "      <td>31226</td>\n",
       "      <td>0</td>\n",
       "      <td>616</td>\n",
       "    </tr>\n",
       "    <tr>\n",
       "      <th>64942</th>\n",
       "      <td>99771519</td>\n",
       "      <td>148258</td>\n",
       "      <td>5</td>\n",
       "      <td>616</td>\n",
       "    </tr>\n",
       "    <tr>\n",
       "      <th>64943</th>\n",
       "      <td>99771519</td>\n",
       "      <td>161936</td>\n",
       "      <td>9</td>\n",
       "      <td>616</td>\n",
       "    </tr>\n",
       "  </tbody>\n",
       "</table>\n",
       "<p>64944 rows × 4 columns</p>\n",
       "</div>"
      ],
      "text/plain": [
       "             isbn user_id  rating  isbn_new\n",
       "0      002542730X   28204       0         1\n",
       "1      002542730X  184299       0         1\n",
       "2      002542730X  165582       5         1\n",
       "3      002542730X  130474       0         1\n",
       "4      002542730X   77809       0         1\n",
       "...           ...     ...     ...       ...\n",
       "64939    99771519  170184       0       616\n",
       "64940    99771519  110029       0       616\n",
       "64941    99771519   31226       0       616\n",
       "64942    99771519  148258       5       616\n",
       "64943    99771519  161936       9       616\n",
       "\n",
       "[64944 rows x 4 columns]"
      ]
     },
     "execution_count": 42,
     "metadata": {},
     "output_type": "execute_result"
    }
   ],
   "source": [
    "df_merged"
   ]
  },
  {
   "cell_type": "code",
   "execution_count": 43,
   "id": "f9a001eb",
   "metadata": {},
   "outputs": [],
   "source": [
    "user_id_new= pd.DataFrame(df_merged.user_id.unique()).sort_values(by= 0)"
   ]
  },
  {
   "cell_type": "code",
   "execution_count": 44,
   "id": "ae404e4a",
   "metadata": {},
   "outputs": [],
   "source": [
    "user_id_new.reset_index(drop= True, inplace=True)"
   ]
  },
  {
   "cell_type": "code",
   "execution_count": 45,
   "id": "80aed986",
   "metadata": {},
   "outputs": [
    {
     "data": {
      "text/html": [
       "<div>\n",
       "<style scoped>\n",
       "    .dataframe tbody tr th:only-of-type {\n",
       "        vertical-align: middle;\n",
       "    }\n",
       "\n",
       "    .dataframe tbody tr th {\n",
       "        vertical-align: top;\n",
       "    }\n",
       "\n",
       "    .dataframe thead th {\n",
       "        text-align: right;\n",
       "    }\n",
       "</style>\n",
       "<table border=\"1\" class=\"dataframe\">\n",
       "  <thead>\n",
       "    <tr style=\"text-align: right;\">\n",
       "      <th></th>\n",
       "      <th>0</th>\n",
       "    </tr>\n",
       "  </thead>\n",
       "  <tbody>\n",
       "    <tr>\n",
       "      <th>0</th>\n",
       "      <td>243</td>\n",
       "    </tr>\n",
       "    <tr>\n",
       "      <th>1</th>\n",
       "      <td>254</td>\n",
       "    </tr>\n",
       "    <tr>\n",
       "      <th>2</th>\n",
       "      <td>507</td>\n",
       "    </tr>\n",
       "    <tr>\n",
       "      <th>3</th>\n",
       "      <td>638</td>\n",
       "    </tr>\n",
       "    <tr>\n",
       "      <th>4</th>\n",
       "      <td>882</td>\n",
       "    </tr>\n",
       "    <tr>\n",
       "      <th>...</th>\n",
       "      <td>...</td>\n",
       "    </tr>\n",
       "    <tr>\n",
       "      <th>2092</th>\n",
       "      <td>250359</td>\n",
       "    </tr>\n",
       "    <tr>\n",
       "      <th>2093</th>\n",
       "      <td>250405</td>\n",
       "    </tr>\n",
       "    <tr>\n",
       "      <th>2094</th>\n",
       "      <td>250510</td>\n",
       "    </tr>\n",
       "    <tr>\n",
       "      <th>2095</th>\n",
       "      <td>250645</td>\n",
       "    </tr>\n",
       "    <tr>\n",
       "      <th>2096</th>\n",
       "      <td>250764</td>\n",
       "    </tr>\n",
       "  </tbody>\n",
       "</table>\n",
       "<p>2097 rows × 1 columns</p>\n",
       "</div>"
      ],
      "text/plain": [
       "           0\n",
       "0        243\n",
       "1        254\n",
       "2        507\n",
       "3        638\n",
       "4        882\n",
       "...      ...\n",
       "2092  250359\n",
       "2093  250405\n",
       "2094  250510\n",
       "2095  250645\n",
       "2096  250764\n",
       "\n",
       "[2097 rows x 1 columns]"
      ]
     },
     "execution_count": 45,
     "metadata": {},
     "output_type": "execute_result"
    }
   ],
   "source": [
    "user_id_new"
   ]
  },
  {
   "cell_type": "code",
   "execution_count": 46,
   "id": "d9c58058",
   "metadata": {},
   "outputs": [],
   "source": [
    "user_id_new.reset_index(inplace=True)"
   ]
  },
  {
   "cell_type": "code",
   "execution_count": 47,
   "id": "9322cb6e",
   "metadata": {},
   "outputs": [],
   "source": [
    "user_id_new.rename(columns= {0 : \"user_id\"}, inplace= True)"
   ]
  },
  {
   "cell_type": "code",
   "execution_count": 48,
   "id": "f1c9b963",
   "metadata": {},
   "outputs": [
    {
     "data": {
      "text/html": [
       "<div>\n",
       "<style scoped>\n",
       "    .dataframe tbody tr th:only-of-type {\n",
       "        vertical-align: middle;\n",
       "    }\n",
       "\n",
       "    .dataframe tbody tr th {\n",
       "        vertical-align: top;\n",
       "    }\n",
       "\n",
       "    .dataframe thead th {\n",
       "        text-align: right;\n",
       "    }\n",
       "</style>\n",
       "<table border=\"1\" class=\"dataframe\">\n",
       "  <thead>\n",
       "    <tr style=\"text-align: right;\">\n",
       "      <th></th>\n",
       "      <th>index</th>\n",
       "      <th>user_id</th>\n",
       "    </tr>\n",
       "  </thead>\n",
       "  <tbody>\n",
       "    <tr>\n",
       "      <th>0</th>\n",
       "      <td>0</td>\n",
       "      <td>243</td>\n",
       "    </tr>\n",
       "    <tr>\n",
       "      <th>1</th>\n",
       "      <td>1</td>\n",
       "      <td>254</td>\n",
       "    </tr>\n",
       "    <tr>\n",
       "      <th>2</th>\n",
       "      <td>2</td>\n",
       "      <td>507</td>\n",
       "    </tr>\n",
       "    <tr>\n",
       "      <th>3</th>\n",
       "      <td>3</td>\n",
       "      <td>638</td>\n",
       "    </tr>\n",
       "    <tr>\n",
       "      <th>4</th>\n",
       "      <td>4</td>\n",
       "      <td>882</td>\n",
       "    </tr>\n",
       "    <tr>\n",
       "      <th>...</th>\n",
       "      <td>...</td>\n",
       "      <td>...</td>\n",
       "    </tr>\n",
       "    <tr>\n",
       "      <th>2092</th>\n",
       "      <td>2092</td>\n",
       "      <td>250359</td>\n",
       "    </tr>\n",
       "    <tr>\n",
       "      <th>2093</th>\n",
       "      <td>2093</td>\n",
       "      <td>250405</td>\n",
       "    </tr>\n",
       "    <tr>\n",
       "      <th>2094</th>\n",
       "      <td>2094</td>\n",
       "      <td>250510</td>\n",
       "    </tr>\n",
       "    <tr>\n",
       "      <th>2095</th>\n",
       "      <td>2095</td>\n",
       "      <td>250645</td>\n",
       "    </tr>\n",
       "    <tr>\n",
       "      <th>2096</th>\n",
       "      <td>2096</td>\n",
       "      <td>250764</td>\n",
       "    </tr>\n",
       "  </tbody>\n",
       "</table>\n",
       "<p>2097 rows × 2 columns</p>\n",
       "</div>"
      ],
      "text/plain": [
       "      index user_id\n",
       "0         0     243\n",
       "1         1     254\n",
       "2         2     507\n",
       "3         3     638\n",
       "4         4     882\n",
       "...     ...     ...\n",
       "2092   2092  250359\n",
       "2093   2093  250405\n",
       "2094   2094  250510\n",
       "2095   2095  250645\n",
       "2096   2096  250764\n",
       "\n",
       "[2097 rows x 2 columns]"
      ]
     },
     "execution_count": 48,
     "metadata": {},
     "output_type": "execute_result"
    }
   ],
   "source": [
    "user_id_new"
   ]
  },
  {
   "cell_type": "code",
   "execution_count": 49,
   "id": "bf17866f",
   "metadata": {},
   "outputs": [],
   "source": [
    "user_id_new['user_id_new'] = (range(1, user_id_new.user_id.count()+1))"
   ]
  },
  {
   "cell_type": "code",
   "execution_count": 50,
   "id": "4244b923",
   "metadata": {},
   "outputs": [
    {
     "data": {
      "text/html": [
       "<div>\n",
       "<style scoped>\n",
       "    .dataframe tbody tr th:only-of-type {\n",
       "        vertical-align: middle;\n",
       "    }\n",
       "\n",
       "    .dataframe tbody tr th {\n",
       "        vertical-align: top;\n",
       "    }\n",
       "\n",
       "    .dataframe thead th {\n",
       "        text-align: right;\n",
       "    }\n",
       "</style>\n",
       "<table border=\"1\" class=\"dataframe\">\n",
       "  <thead>\n",
       "    <tr style=\"text-align: right;\">\n",
       "      <th></th>\n",
       "      <th>index</th>\n",
       "      <th>user_id</th>\n",
       "      <th>user_id_new</th>\n",
       "    </tr>\n",
       "  </thead>\n",
       "  <tbody>\n",
       "    <tr>\n",
       "      <th>0</th>\n",
       "      <td>0</td>\n",
       "      <td>243</td>\n",
       "      <td>1</td>\n",
       "    </tr>\n",
       "    <tr>\n",
       "      <th>1</th>\n",
       "      <td>1</td>\n",
       "      <td>254</td>\n",
       "      <td>2</td>\n",
       "    </tr>\n",
       "    <tr>\n",
       "      <th>2</th>\n",
       "      <td>2</td>\n",
       "      <td>507</td>\n",
       "      <td>3</td>\n",
       "    </tr>\n",
       "    <tr>\n",
       "      <th>3</th>\n",
       "      <td>3</td>\n",
       "      <td>638</td>\n",
       "      <td>4</td>\n",
       "    </tr>\n",
       "    <tr>\n",
       "      <th>4</th>\n",
       "      <td>4</td>\n",
       "      <td>882</td>\n",
       "      <td>5</td>\n",
       "    </tr>\n",
       "    <tr>\n",
       "      <th>...</th>\n",
       "      <td>...</td>\n",
       "      <td>...</td>\n",
       "      <td>...</td>\n",
       "    </tr>\n",
       "    <tr>\n",
       "      <th>2092</th>\n",
       "      <td>2092</td>\n",
       "      <td>250359</td>\n",
       "      <td>2093</td>\n",
       "    </tr>\n",
       "    <tr>\n",
       "      <th>2093</th>\n",
       "      <td>2093</td>\n",
       "      <td>250405</td>\n",
       "      <td>2094</td>\n",
       "    </tr>\n",
       "    <tr>\n",
       "      <th>2094</th>\n",
       "      <td>2094</td>\n",
       "      <td>250510</td>\n",
       "      <td>2095</td>\n",
       "    </tr>\n",
       "    <tr>\n",
       "      <th>2095</th>\n",
       "      <td>2095</td>\n",
       "      <td>250645</td>\n",
       "      <td>2096</td>\n",
       "    </tr>\n",
       "    <tr>\n",
       "      <th>2096</th>\n",
       "      <td>2096</td>\n",
       "      <td>250764</td>\n",
       "      <td>2097</td>\n",
       "    </tr>\n",
       "  </tbody>\n",
       "</table>\n",
       "<p>2097 rows × 3 columns</p>\n",
       "</div>"
      ],
      "text/plain": [
       "      index user_id  user_id_new\n",
       "0         0     243            1\n",
       "1         1     254            2\n",
       "2         2     507            3\n",
       "3         3     638            4\n",
       "4         4     882            5\n",
       "...     ...     ...          ...\n",
       "2092   2092  250359         2093\n",
       "2093   2093  250405         2094\n",
       "2094   2094  250510         2095\n",
       "2095   2095  250645         2096\n",
       "2096   2096  250764         2097\n",
       "\n",
       "[2097 rows x 3 columns]"
      ]
     },
     "execution_count": 50,
     "metadata": {},
     "output_type": "execute_result"
    }
   ],
   "source": [
    "user_id_new"
   ]
  },
  {
   "cell_type": "code",
   "execution_count": 51,
   "id": "c7db7daf",
   "metadata": {},
   "outputs": [],
   "source": [
    "df_merged = df_merged.merge(right= user_id_new, on = 'user_id')"
   ]
  },
  {
   "cell_type": "code",
   "execution_count": 52,
   "id": "fd3e1abd",
   "metadata": {},
   "outputs": [
    {
     "data": {
      "text/html": [
       "<div>\n",
       "<style scoped>\n",
       "    .dataframe tbody tr th:only-of-type {\n",
       "        vertical-align: middle;\n",
       "    }\n",
       "\n",
       "    .dataframe tbody tr th {\n",
       "        vertical-align: top;\n",
       "    }\n",
       "\n",
       "    .dataframe thead th {\n",
       "        text-align: right;\n",
       "    }\n",
       "</style>\n",
       "<table border=\"1\" class=\"dataframe\">\n",
       "  <thead>\n",
       "    <tr style=\"text-align: right;\">\n",
       "      <th></th>\n",
       "      <th>isbn</th>\n",
       "      <th>user_id</th>\n",
       "      <th>rating</th>\n",
       "      <th>isbn_new</th>\n",
       "      <th>index</th>\n",
       "      <th>user_id_new</th>\n",
       "    </tr>\n",
       "  </thead>\n",
       "  <tbody>\n",
       "    <tr>\n",
       "      <th>0</th>\n",
       "      <td>002542730X</td>\n",
       "      <td>28204</td>\n",
       "      <td>0</td>\n",
       "      <td>1</td>\n",
       "      <td>214</td>\n",
       "      <td>215</td>\n",
       "    </tr>\n",
       "    <tr>\n",
       "      <th>1</th>\n",
       "      <td>006101351X</td>\n",
       "      <td>28204</td>\n",
       "      <td>0</td>\n",
       "      <td>4</td>\n",
       "      <td>214</td>\n",
       "      <td>215</td>\n",
       "    </tr>\n",
       "    <tr>\n",
       "      <th>2</th>\n",
       "      <td>014025448X</td>\n",
       "      <td>28204</td>\n",
       "      <td>0</td>\n",
       "      <td>6</td>\n",
       "      <td>214</td>\n",
       "      <td>215</td>\n",
       "    </tr>\n",
       "    <tr>\n",
       "      <th>3</th>\n",
       "      <td>014028009X</td>\n",
       "      <td>28204</td>\n",
       "      <td>0</td>\n",
       "      <td>7</td>\n",
       "      <td>214</td>\n",
       "      <td>215</td>\n",
       "    </tr>\n",
       "    <tr>\n",
       "      <th>4</th>\n",
       "      <td>038542471X</td>\n",
       "      <td>28204</td>\n",
       "      <td>9</td>\n",
       "      <td>23</td>\n",
       "      <td>214</td>\n",
       "      <td>215</td>\n",
       "    </tr>\n",
       "    <tr>\n",
       "      <th>...</th>\n",
       "      <td>...</td>\n",
       "      <td>...</td>\n",
       "      <td>...</td>\n",
       "      <td>...</td>\n",
       "      <td>...</td>\n",
       "      <td>...</td>\n",
       "    </tr>\n",
       "    <tr>\n",
       "      <th>64939</th>\n",
       "      <td>553279556</td>\n",
       "      <td>106369</td>\n",
       "      <td>9</td>\n",
       "      <td>447</td>\n",
       "      <td>864</td>\n",
       "      <td>865</td>\n",
       "    </tr>\n",
       "    <tr>\n",
       "      <th>64940</th>\n",
       "      <td>553279912</td>\n",
       "      <td>106369</td>\n",
       "      <td>8</td>\n",
       "      <td>448</td>\n",
       "      <td>864</td>\n",
       "      <td>865</td>\n",
       "    </tr>\n",
       "    <tr>\n",
       "      <th>64941</th>\n",
       "      <td>553280341</td>\n",
       "      <td>106369</td>\n",
       "      <td>9</td>\n",
       "      <td>449</td>\n",
       "      <td>864</td>\n",
       "      <td>865</td>\n",
       "    </tr>\n",
       "    <tr>\n",
       "      <th>64942</th>\n",
       "      <td>553280368</td>\n",
       "      <td>106369</td>\n",
       "      <td>9</td>\n",
       "      <td>450</td>\n",
       "      <td>864</td>\n",
       "      <td>865</td>\n",
       "    </tr>\n",
       "    <tr>\n",
       "      <th>64943</th>\n",
       "      <td>553284789</td>\n",
       "      <td>106369</td>\n",
       "      <td>9</td>\n",
       "      <td>452</td>\n",
       "      <td>864</td>\n",
       "      <td>865</td>\n",
       "    </tr>\n",
       "  </tbody>\n",
       "</table>\n",
       "<p>64944 rows × 6 columns</p>\n",
       "</div>"
      ],
      "text/plain": [
       "             isbn user_id  rating  isbn_new  index  user_id_new\n",
       "0      002542730X   28204       0         1    214          215\n",
       "1      006101351X   28204       0         4    214          215\n",
       "2      014025448X   28204       0         6    214          215\n",
       "3      014028009X   28204       0         7    214          215\n",
       "4      038542471X   28204       9        23    214          215\n",
       "...           ...     ...     ...       ...    ...          ...\n",
       "64939   553279556  106369       9       447    864          865\n",
       "64940   553279912  106369       8       448    864          865\n",
       "64941   553280341  106369       9       449    864          865\n",
       "64942   553280368  106369       9       450    864          865\n",
       "64943   553284789  106369       9       452    864          865\n",
       "\n",
       "[64944 rows x 6 columns]"
      ]
     },
     "execution_count": 52,
     "metadata": {},
     "output_type": "execute_result"
    }
   ],
   "source": [
    "df_merged"
   ]
  },
  {
   "cell_type": "markdown",
   "id": "aec13150",
   "metadata": {},
   "source": [
    "### Re-index the columns to build a matrix"
   ]
  },
  {
   "cell_type": "code",
   "execution_count": 53,
   "id": "23d31e47",
   "metadata": {},
   "outputs": [],
   "source": [
    "# importing train_test_split\n",
    "from sklearn.model_selection import train_test_split"
   ]
  },
  {
   "cell_type": "code",
   "execution_count": 54,
   "id": "fd7452b8",
   "metadata": {},
   "outputs": [],
   "source": [
    "df_train, df_test = train_test_split(df_merged, test_size=0.20)"
   ]
  },
  {
   "cell_type": "code",
   "execution_count": 55,
   "id": "7c4856dc",
   "metadata": {},
   "outputs": [
    {
     "data": {
      "text/plain": [
       "2097"
      ]
     },
     "execution_count": 55,
     "metadata": {},
     "output_type": "execute_result"
    }
   ],
   "source": [
    "len(df_merged.user_id_new.unique())"
   ]
  },
  {
   "cell_type": "code",
   "execution_count": 56,
   "id": "450b8ad0",
   "metadata": {},
   "outputs": [],
   "source": [
    "n_users= len(df_merged.user_id_new.unique())\n",
    "n_books= len(df_merged.isbn_new.unique())"
   ]
  },
  {
   "cell_type": "code",
   "execution_count": 57,
   "id": "362fc4e3",
   "metadata": {},
   "outputs": [],
   "source": [
    "#creating matrix with shape (Number of users, Number of books)\n",
    "# This will help in performing rmse to check accuracy\n",
    "train_data_matrix = np.zeros((n_users, n_books))\n",
    "test_data_matrix = np.zeros((n_users, n_books))"
   ]
  },
  {
   "cell_type": "code",
   "execution_count": 58,
   "id": "c549f8ea",
   "metadata": {},
   "outputs": [
    {
     "data": {
      "text/plain": [
       "array([[0., 0., 0., ..., 0., 0., 0.],\n",
       "       [0., 0., 0., ..., 0., 0., 0.],\n",
       "       [0., 0., 0., ..., 0., 0., 0.],\n",
       "       ...,\n",
       "       [0., 0., 0., ..., 0., 0., 0.],\n",
       "       [0., 0., 0., ..., 0., 0., 0.],\n",
       "       [0., 0., 0., ..., 0., 0., 0.]])"
      ]
     },
     "execution_count": 58,
     "metadata": {},
     "output_type": "execute_result"
    }
   ],
   "source": [
    "train_data_matrix"
   ]
  },
  {
   "cell_type": "code",
   "execution_count": 59,
   "id": "26e46d34",
   "metadata": {
    "scrolled": true
   },
   "outputs": [
    {
     "data": {
      "text/html": [
       "<div>\n",
       "<style scoped>\n",
       "    .dataframe tbody tr th:only-of-type {\n",
       "        vertical-align: middle;\n",
       "    }\n",
       "\n",
       "    .dataframe tbody tr th {\n",
       "        vertical-align: top;\n",
       "    }\n",
       "\n",
       "    .dataframe thead th {\n",
       "        text-align: right;\n",
       "    }\n",
       "</style>\n",
       "<table border=\"1\" class=\"dataframe\">\n",
       "  <thead>\n",
       "    <tr style=\"text-align: right;\">\n",
       "      <th></th>\n",
       "      <th>isbn</th>\n",
       "      <th>user_id</th>\n",
       "      <th>rating</th>\n",
       "      <th>isbn_new</th>\n",
       "      <th>index</th>\n",
       "      <th>user_id_new</th>\n",
       "    </tr>\n",
       "  </thead>\n",
       "  <tbody>\n",
       "    <tr>\n",
       "      <th>17979</th>\n",
       "      <td>385503822</td>\n",
       "      <td>235105</td>\n",
       "      <td>8</td>\n",
       "      <td>237</td>\n",
       "      <td>1939</td>\n",
       "      <td>1940</td>\n",
       "    </tr>\n",
       "    <tr>\n",
       "      <th>59478</th>\n",
       "      <td>60938455</td>\n",
       "      <td>217121</td>\n",
       "      <td>8</td>\n",
       "      <td>496</td>\n",
       "      <td>1788</td>\n",
       "      <td>1789</td>\n",
       "    </tr>\n",
       "    <tr>\n",
       "      <th>53157</th>\n",
       "      <td>671880314</td>\n",
       "      <td>201674</td>\n",
       "      <td>0</td>\n",
       "      <td>551</td>\n",
       "      <td>1658</td>\n",
       "      <td>1659</td>\n",
       "    </tr>\n",
       "    <tr>\n",
       "      <th>30709</th>\n",
       "      <td>399149155</td>\n",
       "      <td>36606</td>\n",
       "      <td>0</td>\n",
       "      <td>253</td>\n",
       "      <td>290</td>\n",
       "      <td>291</td>\n",
       "    </tr>\n",
       "    <tr>\n",
       "      <th>51561</th>\n",
       "      <td>60391626</td>\n",
       "      <td>74286</td>\n",
       "      <td>0</td>\n",
       "      <td>485</td>\n",
       "      <td>602</td>\n",
       "      <td>603</td>\n",
       "    </tr>\n",
       "    <tr>\n",
       "      <th>...</th>\n",
       "      <td>...</td>\n",
       "      <td>...</td>\n",
       "      <td>...</td>\n",
       "      <td>...</td>\n",
       "      <td>...</td>\n",
       "      <td>...</td>\n",
       "    </tr>\n",
       "    <tr>\n",
       "      <th>39486</th>\n",
       "      <td>671867091</td>\n",
       "      <td>90198</td>\n",
       "      <td>0</td>\n",
       "      <td>547</td>\n",
       "      <td>731</td>\n",
       "      <td>732</td>\n",
       "    </tr>\n",
       "    <tr>\n",
       "      <th>34938</th>\n",
       "      <td>743418174</td>\n",
       "      <td>208147</td>\n",
       "      <td>9</td>\n",
       "      <td>584</td>\n",
       "      <td>1715</td>\n",
       "      <td>1716</td>\n",
       "    </tr>\n",
       "    <tr>\n",
       "      <th>37497</th>\n",
       "      <td>451524934</td>\n",
       "      <td>75485</td>\n",
       "      <td>10</td>\n",
       "      <td>410</td>\n",
       "      <td>608</td>\n",
       "      <td>609</td>\n",
       "    </tr>\n",
       "    <tr>\n",
       "      <th>62970</th>\n",
       "      <td>671027360</td>\n",
       "      <td>3373</td>\n",
       "      <td>5</td>\n",
       "      <td>530</td>\n",
       "      <td>22</td>\n",
       "      <td>23</td>\n",
       "    </tr>\n",
       "    <tr>\n",
       "      <th>52098</th>\n",
       "      <td>743418204</td>\n",
       "      <td>48494</td>\n",
       "      <td>0</td>\n",
       "      <td>585</td>\n",
       "      <td>386</td>\n",
       "      <td>387</td>\n",
       "    </tr>\n",
       "  </tbody>\n",
       "</table>\n",
       "<p>51955 rows × 6 columns</p>\n",
       "</div>"
      ],
      "text/plain": [
       "            isbn user_id  rating  isbn_new  index  user_id_new\n",
       "17979  385503822  235105       8       237   1939         1940\n",
       "59478   60938455  217121       8       496   1788         1789\n",
       "53157  671880314  201674       0       551   1658         1659\n",
       "30709  399149155   36606       0       253    290          291\n",
       "51561   60391626   74286       0       485    602          603\n",
       "...          ...     ...     ...       ...    ...          ...\n",
       "39486  671867091   90198       0       547    731          732\n",
       "34938  743418174  208147       9       584   1715         1716\n",
       "37497  451524934   75485      10       410    608          609\n",
       "62970  671027360    3373       5       530     22           23\n",
       "52098  743418204   48494       0       585    386          387\n",
       "\n",
       "[51955 rows x 6 columns]"
      ]
     },
     "execution_count": 59,
     "metadata": {},
     "output_type": "execute_result"
    }
   ],
   "source": [
    "df_train"
   ]
  },
  {
   "cell_type": "code",
   "execution_count": 60,
   "id": "7db9254f",
   "metadata": {},
   "outputs": [
    {
     "data": {
      "text/plain": [
       "array([[0., 0., 0., ..., 0., 0., 0.],\n",
       "       [0., 0., 0., ..., 0., 0., 0.],\n",
       "       [0., 0., 0., ..., 0., 0., 0.],\n",
       "       ...,\n",
       "       [0., 0., 0., ..., 9., 0., 0.],\n",
       "       [0., 0., 0., ..., 0., 0., 0.],\n",
       "       [0., 0., 0., ..., 0., 0., 0.]])"
      ]
     },
     "execution_count": 60,
     "metadata": {},
     "output_type": "execute_result"
    }
   ],
   "source": [
    "for line in df_train.itertuples():\n",
    "    #[user_id index, movie_id index] = given rating.\n",
    "    #if line[3].isdigit():\n",
    "    train_data_matrix[int(line[6]) -1, int(line[4]) - 1] = line[3]\n",
    "train_data_matrix"
   ]
  },
  {
   "cell_type": "code",
   "execution_count": 61,
   "id": "32ac39f1",
   "metadata": {},
   "outputs": [
    {
     "data": {
      "text/plain": [
       "10.0"
      ]
     },
     "execution_count": 61,
     "metadata": {},
     "output_type": "execute_result"
    }
   ],
   "source": [
    "train_data_matrix.max()"
   ]
  },
  {
   "cell_type": "code",
   "execution_count": 62,
   "id": "71289701",
   "metadata": {},
   "outputs": [
    {
     "data": {
      "text/plain": [
       "array([[0., 0., 0., ..., 0., 0., 0.],\n",
       "       [0., 0., 0., ..., 0., 0., 0.],\n",
       "       [0., 0., 0., ..., 0., 0., 0.],\n",
       "       ...,\n",
       "       [0., 0., 0., ..., 0., 0., 0.],\n",
       "       [0., 0., 0., ..., 0., 0., 0.],\n",
       "       [0., 0., 0., ..., 0., 0., 0.]])"
      ]
     },
     "execution_count": 62,
     "metadata": {},
     "output_type": "execute_result"
    }
   ],
   "source": [
    "for line in df_test.itertuples():\n",
    "    #[user_id index, movie_id index] = given rating.\n",
    "    #if line[1].isdigit():\n",
    "        test_data_matrix[int(line[6]) -1, int(line[4]) - 1] = line[3] \n",
    "test_data_matrix"
   ]
  },
  {
   "cell_type": "code",
   "execution_count": 63,
   "id": "e18b052e",
   "metadata": {},
   "outputs": [
    {
     "data": {
      "text/plain": [
       "10.0"
      ]
     },
     "execution_count": 63,
     "metadata": {},
     "output_type": "execute_result"
    }
   ],
   "source": [
    "test_data_matrix.max()"
   ]
  },
  {
   "cell_type": "markdown",
   "id": "3580ec62",
   "metadata": {},
   "source": [
    "## Cosine SImilarity"
   ]
  },
  {
   "cell_type": "code",
   "execution_count": 64,
   "id": "c47504fa",
   "metadata": {},
   "outputs": [],
   "source": [
    "#importing pairwise_distance\n",
    "from sklearn.metrics import pairwise_distances\n",
    "user_similarity = 1- pairwise_distances(train_data_matrix, metric='cosine')\n",
    "book_similarity = 1- pairwise_distances(train_data_matrix.T, metric='cosine')"
   ]
  },
  {
   "cell_type": "code",
   "execution_count": 65,
   "id": "756a855e",
   "metadata": {},
   "outputs": [],
   "source": [
    "mean_user_rating = np.zeros(len(df_merged.user_id_new.unique()))"
   ]
  },
  {
   "cell_type": "code",
   "execution_count": 66,
   "id": "166d5692",
   "metadata": {},
   "outputs": [
    {
     "data": {
      "text/plain": [
       "8.571428571428571"
      ]
     },
     "execution_count": 66,
     "metadata": {},
     "output_type": "execute_result"
    }
   ],
   "source": [
    "train_data_matrix[0][np.nonzero(train_data_matrix[0])].mean()"
   ]
  },
  {
   "cell_type": "code",
   "execution_count": 67,
   "id": "1ef282ca",
   "metadata": {},
   "outputs": [],
   "source": [
    "# creating a loop that will fill mean rating of each user by taking a mean of his/her ratings\n",
    "# Since 0 means no rating we will neglect them\n",
    "for i in range(0, len(df_merged.user_id_new.unique())):\n",
    "    mean_user_rating[i]= train_data_matrix[i][np.nonzero(train_data_matrix[i])].mean()"
   ]
  },
  {
   "cell_type": "code",
   "execution_count": 68,
   "id": "27dea501",
   "metadata": {},
   "outputs": [
    {
     "data": {
      "text/plain": [
       "(2097, 1)"
      ]
     },
     "execution_count": 68,
     "metadata": {},
     "output_type": "execute_result"
    }
   ],
   "source": [
    "np.array([mean_user_rating]).T.shape"
   ]
  },
  {
   "cell_type": "code",
   "execution_count": 69,
   "id": "b2f5ec30",
   "metadata": {},
   "outputs": [],
   "source": [
    "ratings_diff = (train_data_matrix - np.array([mean_user_rating]).T) "
   ]
  },
  {
   "cell_type": "code",
   "execution_count": 70,
   "id": "18e4f689",
   "metadata": {},
   "outputs": [
    {
     "data": {
      "text/plain": [
       "array([[-8.57142857, -8.57142857, -8.57142857, ..., -8.57142857,\n",
       "        -8.57142857, -8.57142857],\n",
       "       [-8.72727273, -8.72727273, -8.72727273, ..., -8.72727273,\n",
       "        -8.72727273, -8.72727273],\n",
       "       [-8.        , -8.        , -8.        , ..., -8.        ,\n",
       "        -8.        , -8.        ],\n",
       "       ...,\n",
       "       [-9.        , -9.        , -9.        , ...,  0.        ,\n",
       "        -9.        , -9.        ],\n",
       "       [-8.        , -8.        , -8.        , ..., -8.        ,\n",
       "        -8.        , -8.        ],\n",
       "       [-8.        , -8.        , -8.        , ..., -8.        ,\n",
       "        -8.        , -8.        ]])"
      ]
     },
     "execution_count": 70,
     "metadata": {},
     "output_type": "execute_result"
    }
   ],
   "source": [
    "ratings_diff"
   ]
  },
  {
   "cell_type": "code",
   "execution_count": 71,
   "id": "b2eaca9b",
   "metadata": {},
   "outputs": [],
   "source": [
    "# Creating a loop to correct rating difference where it is stored as 0\n",
    "for i in range(0, len(ratings_diff)):\n",
    "    for j in range(0, len(ratings_diff[i])):\n",
    "        if ratings_diff[i][j] <= (0 -mean_user_rating[i]) or str(ratings_diff[i][j]) == 'nan':\n",
    "            ratings_diff[i][j] = 0"
   ]
  },
  {
   "cell_type": "code",
   "execution_count": 72,
   "id": "ef81dd47",
   "metadata": {},
   "outputs": [
    {
     "data": {
      "text/plain": [
       "5.818181818181818"
      ]
     },
     "execution_count": 72,
     "metadata": {},
     "output_type": "execute_result"
    }
   ],
   "source": [
    "ratings_diff.max()"
   ]
  },
  {
   "cell_type": "code",
   "execution_count": 73,
   "id": "ed9b0006",
   "metadata": {},
   "outputs": [
    {
     "data": {
      "text/plain": [
       "array([[8.55520936, 8.57665963, 8.58172274, ..., 8.58233849, 8.48794894,\n",
       "        8.58410235],\n",
       "       [8.71475645, 8.73134032, 8.7223933 , ..., 8.72995319, 8.62557714,\n",
       "        8.72789684],\n",
       "       [7.9994391 , 8.00176884, 7.9975038 , ..., 7.98670814, 7.84132963,\n",
       "        8.00238592],\n",
       "       ...,\n",
       "       [8.9295592 , 9.00769633, 9.01369552, ..., 9.25583561, 8.98855828,\n",
       "        9.0038701 ],\n",
       "       [7.98627338, 7.95948644, 7.99650694, ..., 7.9960888 , 7.93120539,\n",
       "        8.        ],\n",
       "       [7.97206633, 8.00993813, 8.01768477, ..., 8.05188513, 7.89890696,\n",
       "        8.01485285]])"
      ]
     },
     "execution_count": 73,
     "metadata": {},
     "output_type": "execute_result"
    }
   ],
   "source": [
    "# Predicting rating of all books by all users\n",
    "user_pred = np.array([mean_user_rating]).T + user_similarity.dot(ratings_diff) / np.array([np.abs(user_similarity).sum(axis=1)]).T\n",
    "user_pred"
   ]
  },
  {
   "cell_type": "code",
   "execution_count": 74,
   "id": "29ab8e67",
   "metadata": {},
   "outputs": [],
   "source": [
    "for i in range(0, len(user_pred)):\n",
    "    for j in range(0, len(user_pred[i])):\n",
    "        if str(user_pred[i][j]) == 'nan':\n",
    "            user_pred[i][j] = 0"
   ]
  },
  {
   "cell_type": "code",
   "execution_count": 75,
   "id": "67d9e4d3",
   "metadata": {},
   "outputs": [],
   "source": [
    "#importing mean_squared_error and sqrt\n",
    "from sklearn.metrics import mean_squared_error\n",
    "from math import sqrt\n",
    "# making a function to calculate rmse\n",
    "def rmse(prediction, ground_truth):\n",
    "    # Nonzero func only those values for which test matrix had nonzero values\n",
    "    prediction = prediction[ground_truth.nonzero()].flatten() \n",
    "    ground_truth = ground_truth[ground_truth.nonzero()].flatten()\n",
    "    return sqrt(mean_squared_error(prediction, ground_truth))"
   ]
  },
  {
   "cell_type": "code",
   "execution_count": 76,
   "id": "9be013d4",
   "metadata": {},
   "outputs": [
    {
     "name": "stdout",
     "output_type": "stream",
     "text": [
      "RMSE: 1.797931256621148\n"
     ]
    }
   ],
   "source": [
    "#Passing our predictions and actual ratings to the function\n",
    "print('RMSE: ' + str(rmse(user_pred, test_data_matrix)))"
   ]
  },
  {
   "cell_type": "code",
   "execution_count": 77,
   "id": "40d069fd",
   "metadata": {},
   "outputs": [],
   "source": [
    "# Creating final matrix\n",
    "actual_data_matrix= np.zeros((n_users, n_books))"
   ]
  },
  {
   "cell_type": "code",
   "execution_count": 78,
   "id": "22a59304",
   "metadata": {},
   "outputs": [
    {
     "data": {
      "text/plain": [
       "array([[0., 0., 0., ..., 0., 0., 0.],\n",
       "       [0., 0., 0., ..., 0., 0., 0.],\n",
       "       [0., 0., 0., ..., 0., 0., 0.],\n",
       "       ...,\n",
       "       [0., 0., 0., ..., 9., 0., 0.],\n",
       "       [0., 0., 0., ..., 0., 0., 0.],\n",
       "       [0., 0., 0., ..., 0., 0., 0.]])"
      ]
     },
     "execution_count": 78,
     "metadata": {},
     "output_type": "execute_result"
    }
   ],
   "source": [
    "# we will fill the final matrix with all ratings (Last time we filled only train data)\n",
    "for line in df_merged.itertuples():\n",
    "    #[user_id index, movie_id index] = given rating.\n",
    "    #if line[3].isdigit():\n",
    "    actual_data_matrix[int(line[6]) -1, int(line[4]) - 1] = line[3]\n",
    "actual_data_matrix"
   ]
  },
  {
   "cell_type": "code",
   "execution_count": 79,
   "id": "b8831a66",
   "metadata": {},
   "outputs": [],
   "source": [
    "user_similarity_actual = 1- pairwise_distances(actual_data_matrix, metric='cosine')"
   ]
  },
  {
   "cell_type": "code",
   "execution_count": 80,
   "id": "7926adb8",
   "metadata": {},
   "outputs": [],
   "source": [
    "mean_user_rating_actual = np.zeros(len(df_merged.user_id_new.unique()))"
   ]
  },
  {
   "cell_type": "code",
   "execution_count": 81,
   "id": "41ec070b",
   "metadata": {},
   "outputs": [],
   "source": [
    "for i in range(0, len(df_merged.user_id_new.unique())):\n",
    "    mean_user_rating_actual[i]= train_data_matrix[i][np.nonzero(train_data_matrix[i])].mean()"
   ]
  },
  {
   "cell_type": "code",
   "execution_count": 82,
   "id": "1edd90c3",
   "metadata": {},
   "outputs": [],
   "source": [
    "ratings_diff_actual = (actual_data_matrix - np.array([mean_user_rating_actual]).T) "
   ]
  },
  {
   "cell_type": "code",
   "execution_count": 83,
   "id": "e4a358d5",
   "metadata": {},
   "outputs": [],
   "source": [
    "for i in range(0, len(ratings_diff_actual)):\n",
    "    for j in range(0, len(ratings_diff_actual[i])):\n",
    "        if ratings_diff_actual[i][j] <= (0 -mean_user_rating_actual[i]) or str(ratings_diff_actual[i][j]) == 'nan':\n",
    "            ratings_diff_actual[i][j] = 0"
   ]
  },
  {
   "cell_type": "code",
   "execution_count": 84,
   "id": "4d3092e2",
   "metadata": {},
   "outputs": [
    {
     "data": {
      "text/plain": [
       "array([[0., 0., 0., ..., 0., 0., 0.],\n",
       "       [0., 0., 0., ..., 0., 0., 0.],\n",
       "       [0., 0., 0., ..., 0., 0., 0.],\n",
       "       ...,\n",
       "       [0., 0., 0., ..., 0., 0., 0.],\n",
       "       [0., 0., 0., ..., 0., 0., 0.],\n",
       "       [0., 0., 0., ..., 0., 0., 0.]])"
      ]
     },
     "execution_count": 84,
     "metadata": {},
     "output_type": "execute_result"
    }
   ],
   "source": [
    "ratings_diff_actual"
   ]
  },
  {
   "cell_type": "code",
   "execution_count": 85,
   "id": "093065a7",
   "metadata": {},
   "outputs": [
    {
     "data": {
      "text/plain": [
       "array([[8.55431426, 8.57529847, 8.57973323, ..., 8.5792533 , 8.41169773,\n",
       "        8.58639139],\n",
       "       [8.71722022, 8.72163234, 8.72586044, ..., 8.72445534, 8.55553109,\n",
       "        8.72889106],\n",
       "       [8.00789334, 7.98774714, 8.00465057, ..., 7.96645295, 7.80334198,\n",
       "        7.99162876],\n",
       "       ...,\n",
       "       [8.98017803, 9.00320469, 9.01080112, ..., 9.13084177, 8.79983826,\n",
       "        9.00507949],\n",
       "       [7.99165119, 7.92934191, 8.00644147, ..., 7.99674939, 7.93886502,\n",
       "        8.00913561],\n",
       "       [7.97664036, 8.00837043, 8.01489508, ..., 8.0452314 , 7.91585968,\n",
       "        8.01224257]])"
      ]
     },
     "execution_count": 85,
     "metadata": {},
     "output_type": "execute_result"
    }
   ],
   "source": [
    "#Making predictions again\n",
    "user_pred_actual = np.array([mean_user_rating_actual]).T + user_similarity_actual.dot(ratings_diff_actual)/np.array(\n",
    "    [np.abs(user_similarity_actual).sum(axis=1)]).T\n",
    "user_pred_actual"
   ]
  },
  {
   "cell_type": "code",
   "execution_count": 86,
   "id": "97bccd76",
   "metadata": {},
   "outputs": [],
   "source": [
    "# creating a function that takes user id and will recommend the books he hasn't read but will most likely love\n",
    "# ie. give them highest rating based on predictions\n",
    "def recommendor(user_id):\n",
    "    if user_id in list(df_merged['user_id']):\n",
    "        # converting user_id to user_id_new as it will allow to get his ratings from the matrix\n",
    "        new_id = df_merged.loc[df_merged.user_id == user_id, :]['user_id_new'].iloc[0]\n",
    "        # now we will get his ratings\n",
    "        recommendations = user_pred_actual[int(new_id)]\n",
    "        # put the books he has already rated as 0 as they shouldn't be recommended\n",
    "        recommendations[[actual_data_matrix[new_id].nonzero()]] = 0\n",
    "        recommend = pd.DataFrame(recommendations)\n",
    "        # reset index to get book ids (isbn_new) in a separate colum\n",
    "        recommend.reset_index(inplace = True)\n",
    "        #sorting by rating\n",
    "        recommended_books_ids = recommend.sort_values(by = 0, ascending = False).iloc[0:10]['index']\n",
    "        recommended_books_ids_original = df_merged.loc[df_merged.isbn_new.isin(recommended_books_ids), :]['isbn'].unique()\n",
    "        #return book title from df_books\n",
    "        return df_books.loc[df_books.isbn.isin(recommended_books_ids_original), :]['book_title'].unique()\n",
    "    else:\n",
    "        # incase user has not rated more than 10 books we will recommend most popular books\n",
    "        popular_books_final = df_ratings.groupby('isbn').count().sort_values(by = \n",
    "                                                                             'rating', ascending= False).iloc[0:10].index\n",
    "        return df_books.loc[df_books.isbn.isin(popular_books_final), :]['book_title'].unique()\n",
    "        "
   ]
  },
  {
   "cell_type": "code",
   "execution_count": 87,
   "id": "86442d4a",
   "metadata": {},
   "outputs": [
    {
     "data": {
      "text/plain": [
       "array(['The Four Agreements: A Practical Guide to Personal Freedom',\n",
       "       'Confessions of a Shopaholic (Summer Display Opportunity)',\n",
       "       'Snow Falling on Cedars', 'Pay It Forward',\n",
       "       'The Eyre Affair: A Novel', \"The Handmaid's Tale : A Novel\",\n",
       "       'Holes (Yearling Newbery)', 'The Summons', 'A Fine Balance',\n",
       "       'The Saving Graces: A Novel'], dtype=object)"
      ]
     },
     "execution_count": 87,
     "metadata": {},
     "output_type": "execute_result"
    }
   ],
   "source": [
    "#passing a user_id who has rated more than 10 books\n",
    "recommendor(28204)"
   ]
  },
  {
   "cell_type": "code",
   "execution_count": 88,
   "id": "f5c51f5e",
   "metadata": {},
   "outputs": [
    {
     "data": {
      "text/plain": [
       "array(['Wild Animus', 'Angels &amp; Demons', 'A Painted House',\n",
       "       'The Secret Life of Bees', 'The Lovely Bones: A Novel',\n",
       "       'The Red Tent (Bestselling Backlist)', 'The Da Vinci Code',\n",
       "       'Divine Secrets of the Ya-Ya Sisterhood: A Novel',\n",
       "       'Snow Falling on Cedars'], dtype=object)"
      ]
     },
     "execution_count": 88,
     "metadata": {},
     "output_type": "execute_result"
    }
   ],
   "source": [
    "#passing a user who has rated less than 10 books\n",
    "recommendor(2)"
   ]
  },
  {
   "cell_type": "code",
   "execution_count": null,
   "id": "86eb0211",
   "metadata": {},
   "outputs": [],
   "source": []
  }
 ],
 "metadata": {
  "kernelspec": {
   "display_name": "Python 3 (ipykernel)",
   "language": "python",
   "name": "python3"
  },
  "language_info": {
   "codemirror_mode": {
    "name": "ipython",
    "version": 3
   },
   "file_extension": ".py",
   "mimetype": "text/x-python",
   "name": "python",
   "nbconvert_exporter": "python",
   "pygments_lexer": "ipython3",
   "version": "3.9.7"
  }
 },
 "nbformat": 4,
 "nbformat_minor": 5
}
